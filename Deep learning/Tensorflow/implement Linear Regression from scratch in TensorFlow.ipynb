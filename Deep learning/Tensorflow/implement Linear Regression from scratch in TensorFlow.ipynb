{
 "cells": [
  {
   "cell_type": "code",
   "id": "initial_id",
   "metadata": {
    "collapsed": true,
    "ExecuteTime": {
     "end_time": "2025-09-14T09:03:06.285471Z",
     "start_time": "2025-09-14T09:03:06.268809Z"
    }
   },
   "source": [
    "import tensorflow as tf\n",
    "import numpy as np\n",
    "from scipy.stats import fisher_exact\n",
    "\n",
    "X = np.linspace(0, 10, 100, dtype=np.float32).reshape(-1, 1)\n",
    "Y = 3 * X + 2 + np.random.normal(0, 1, X.shape).astype(np.float32)\n",
    "\n",
    "W = tf.Variable(tf.random.normal([1, 1]))\n",
    "b = tf.Variable(tf.random.normal([1]))\n",
    "\n"
   ],
   "outputs": [
    {
     "data": {
      "text/plain": [
       "<tf.Variable 'Variable:0' shape=(1,) dtype=float32, numpy=array([-0.01550195], dtype=float32)>"
      ]
     },
     "execution_count": 9,
     "metadata": {},
     "output_type": "execute_result"
    }
   ],
   "execution_count": 9
  },
  {
   "metadata": {
    "ExecuteTime": {
     "end_time": "2025-09-14T09:10:53.177246Z",
     "start_time": "2025-09-14T09:10:52.599738Z"
    }
   },
   "cell_type": "code",
   "source": [
    "## training loop\n",
    "\n",
    "learning_rate = 0.01\n",
    "epochs = 200\n",
    "\n",
    "for epoch in range(epochs):\n",
    "    with tf.GradientTape() as tape:\n",
    "        #         forward pass\n",
    "        y_hat = tf.matmul(X, W) + b\n",
    "\n",
    "        # loss mean square error\n",
    "        loss = tf.reduce_mean(tf.square(Y - y_hat))\n",
    "\n",
    "    gradients = tape.gradient(loss, [W, b])\n",
    "\n",
    "    # update parameters\n",
    "    W.assign_sub(learning_rate * gradients[0])\n",
    "    b.assign_sub(learning_rate * gradients[1])\n",
    "\n",
    "    if epoch % 20 == 0:\n",
    "        print(f\"Epoch {epoch}: Loss = {loss.numpy()}, W = {W.numpy()}, b = {b.numpy()}\")\n"
   ],
   "id": "f405978de6a7a497",
   "outputs": [
    {
     "name": "stdout",
     "output_type": "stream",
     "text": [
      "Epoch 0: Loss = 0.8535570502281189, W = [[3.0548623]], b = [1.4258653]\n",
      "Epoch 20: Loss = 0.8430783152580261, W = [[3.0480835]], b = [1.4709489]\n",
      "Epoch 40: Loss = 0.8344906568527222, W = [[3.041947]], b = [1.5117613]\n",
      "Epoch 60: Loss = 0.8274531364440918, W = [[3.0363917]], b = [1.5487074]\n",
      "Epoch 80: Loss = 0.8216860890388489, W = [[3.0313628]], b = [1.5821536]\n",
      "Epoch 100: Loss = 0.81695955991745, W = [[3.0268102]], b = [1.6124312]\n",
      "Epoch 120: Loss = 0.8130863904953003, W = [[3.0226889]], b = [1.6398404]\n",
      "Epoch 140: Loss = 0.8099124431610107, W = [[3.018958]], b = [1.6646532]\n",
      "Epoch 160: Loss = 0.8073109984397888, W = [[3.0155807]], b = [1.6871152]\n",
      "Epoch 180: Loss = 0.805179238319397, W = [[3.0125232]], b = [1.7074493]\n"
     ]
    }
   ],
   "execution_count": 15
  },
  {
   "metadata": {
    "ExecuteTime": {
     "end_time": "2025-09-14T09:17:10.219647Z",
     "start_time": "2025-09-14T09:17:10.211838Z"
    }
   },
   "cell_type": "code",
   "source": [
    "print(\"Final Parameters:\")\n",
    "print(\"W =\", W.numpy())\n",
    "print(\"b =\", b.numpy())\n"
   ],
   "id": "24299c7f02865960",
   "outputs": [
    {
     "name": "stdout",
     "output_type": "stream",
     "text": [
      "Final Parameters:\n",
      "W = [[3.0098875]]\n",
      "b = [1.7249795]\n"
     ]
    }
   ],
   "execution_count": 21
  }
 ],
 "metadata": {
  "kernelspec": {
   "display_name": "Python 3",
   "language": "python",
   "name": "python3"
  },
  "language_info": {
   "codemirror_mode": {
    "name": "ipython",
    "version": 2
   },
   "file_extension": ".py",
   "mimetype": "text/x-python",
   "name": "python",
   "nbconvert_exporter": "python",
   "pygments_lexer": "ipython2",
   "version": "2.7.6"
  }
 },
 "nbformat": 4,
 "nbformat_minor": 5
}
