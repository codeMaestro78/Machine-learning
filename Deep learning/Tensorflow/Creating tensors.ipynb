{
 "cells": [
  {
   "cell_type": "code",
   "id": "initial_id",
   "metadata": {
    "collapsed": true,
    "ExecuteTime": {
     "end_time": "2025-09-13T20:31:00.628232Z",
     "start_time": "2025-09-13T20:31:00.555497Z"
    }
   },
   "source": [
    "import tensorflow as tf\n",
    "# Scalar\n",
    "scalar=tf.constant(5)\n",
    "print(scalar)\n",
    "\n",
    "# vector\n",
    "vector = tf.constant([1,2,3,4])\n",
    "print(vector)\n",
    "\n",
    "# MAtrix\n",
    "matrix =tf.constant([[1,2],[3,4]])\n",
    "print(matrix.shape)\n",
    "\n",
    "# random tensor\n",
    "rand_tensor=tf.random.normal([3,3],mean=0.0,stddev=1.0)\n",
    "print(rand_tensor)"
   ],
   "outputs": [
    {
     "name": "stdout",
     "output_type": "stream",
     "text": [
      "tf.Tensor(5, shape=(), dtype=int32)\n",
      "tf.Tensor([1 2 3 4], shape=(4,), dtype=int32)\n",
      "(2, 2)\n",
      "tf.Tensor(\n",
      "[[ 0.96422064 -0.06666744 -1.1571382 ]\n",
      " [ 0.72706616  1.1699833   1.2744148 ]\n",
      " [-0.4795448  -0.59564054 -0.6331872 ]], shape=(3, 3), dtype=float32)\n"
     ]
    }
   ],
   "execution_count": 2
  },
  {
   "metadata": {
    "ExecuteTime": {
     "end_time": "2025-09-13T20:31:00.654271Z",
     "start_time": "2025-09-13T20:31:00.636242Z"
    }
   },
   "cell_type": "code",
   "source": [
    "a = tf.constant([1,2,3], dtype=tf.float32)\n",
    "b = tf.constant([4,5,6], dtype=tf.float32)\n",
    "\n",
    "# Addition\n",
    "c = tf.add(a, b)       # [5,7,9]\n",
    "\n",
    "# Multiplication (element-wise)\n",
    "d = tf.multiply(a, b)\n",
    "\n",
    "# Matrix multiplication\n",
    "mat1 = tf.constant([[1,2],[3,4]])\n",
    "mat2 = tf.constant([[5,6],[7,8]])\n",
    "mat_mul = tf.matmul(mat1, mat2)\n",
    "print(mat_mul)\n",
    "\n",
    "# Transpose\n",
    "print(tf.transpose(mat1))\n"
   ],
   "id": "ef35e42c844ff22",
   "outputs": [
    {
     "name": "stdout",
     "output_type": "stream",
     "text": [
      "tf.Tensor(\n",
      "[[19 22]\n",
      " [43 50]], shape=(2, 2), dtype=int32)\n",
      "tf.Tensor(\n",
      "[[1 3]\n",
      " [2 4]], shape=(2, 2), dtype=int32)\n"
     ]
    }
   ],
   "execution_count": 3
  },
  {
   "metadata": {},
   "cell_type": "markdown",
   "source": "## In deep learning, weights are tensors that we need to update. These are created using tf.Variable",
   "id": "38dddc08301919e2"
  },
  {
   "metadata": {},
   "cell_type": "markdown",
   "source": "",
   "id": "f55d8515efb5811f"
  },
  {
   "metadata": {
    "ExecuteTime": {
     "end_time": "2025-09-13T20:33:10.822060Z",
     "start_time": "2025-09-13T20:33:10.816701Z"
    }
   },
   "cell_type": "code",
   "source": [
    "W=tf.Variable([[0.5,1.0],[1.5,-0.5]],dtype=tf.float32)\n",
    "b=tf.Variable([0.0,0.0],dtype=tf.float32)\n",
    "\n",
    "x=tf.constant([[1.0,2.0]])\n",
    "y=tf.matmul(x,W)+b\n",
    "print(y)"
   ],
   "id": "717752d46b41f531",
   "outputs": [
    {
     "name": "stdout",
     "output_type": "stream",
     "text": [
      "tf.Tensor([[3.5 0. ]], shape=(1, 2), dtype=float32)\n"
     ]
    }
   ],
   "execution_count": 10
  },
  {
   "metadata": {},
   "cell_type": "markdown",
   "source": [
    "Automatic Differentiation\n",
    "\n",
    "TensorFlow uses tf.GradientTape to compute derivatives automatically."
   ],
   "id": "c01f9f4a45b17c13"
  },
  {
   "metadata": {
    "ExecuteTime": {
     "end_time": "2025-09-13T20:31:00.776759Z",
     "start_time": "2025-09-13T20:31:00.736768Z"
    }
   },
   "cell_type": "code",
   "source": [
    "x=tf.constant([[1.0,2.0]])\n",
    "with tf.GradientTape() as tape:\n",
    "    y=tf.matmul(x,W)+b\n",
    "    loss=tf.reduce_sum(y**2)\n",
    "\n",
    "grads=tape.gradient(loss,[W,b])\n",
    "print(grads)"
   ],
   "id": "d3bd03c74f5ad6af",
   "outputs": [
    {
     "name": "stdout",
     "output_type": "stream",
     "text": [
      "[<tf.Tensor: shape=(2, 2), dtype=float32, numpy=\n",
      "array([[ 7.,  0.],\n",
      "       [14.,  0.]], dtype=float32)>, <tf.Tensor: shape=(2,), dtype=float32, numpy=array([7., 0.], dtype=float32)>]\n"
     ]
    }
   ],
   "execution_count": 5
  },
  {
   "metadata": {
    "ExecuteTime": {
     "end_time": "2025-09-13T20:31:00.870364Z",
     "start_time": "2025-09-13T20:31:00.786765Z"
    }
   },
   "cell_type": "code",
   "source": [
    "# TensorFlow 2.x uses Eager Execution by default, which is intuitive and Pythonic.\n",
    "# Eager Execution: operations are computed immediately.\n",
    "# Graph Mode (optional): you can convert functions to a static graph using @tf.function for faster execution.\n",
    "\n",
    "\n",
    "@tf.function\n",
    "def f(x):\n",
    "    return x**2+2*x+1\n",
    "print(f(tf.constant(3.0)))\n"
   ],
   "id": "c6fa92d5770773c3",
   "outputs": [
    {
     "name": "stdout",
     "output_type": "stream",
     "text": [
      "tf.Tensor(16.0, shape=(), dtype=float32)\n"
     ]
    }
   ],
   "execution_count": 6
  }
 ],
 "metadata": {
  "kernelspec": {
   "display_name": "Python 3",
   "language": "python",
   "name": "python3"
  },
  "language_info": {
   "codemirror_mode": {
    "name": "ipython",
    "version": 2
   },
   "file_extension": ".py",
   "mimetype": "text/x-python",
   "name": "python",
   "nbconvert_exporter": "python",
   "pygments_lexer": "ipython2",
   "version": "2.7.6"
  }
 },
 "nbformat": 4,
 "nbformat_minor": 5
}
