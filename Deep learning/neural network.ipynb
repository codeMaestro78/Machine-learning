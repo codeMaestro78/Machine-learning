{
 "cells": [
  {
   "cell_type": "code",
   "id": "initial_id",
   "metadata": {
    "collapsed": true,
    "ExecuteTime": {
     "end_time": "2025-09-07T18:49:32.766790Z",
     "start_time": "2025-09-07T18:49:32.758440Z"
    }
   },
   "source": [
    "import numpy as np\n",
    "inputs=np.array(np.random.rand(3))\n",
    "weights=np.array(np.random.rand(3))\n",
    "bias=2.0\n",
    "\n",
    "output=np.dot(weights,inputs) + bias\n",
    "output\n"
   ],
   "outputs": [
    {
     "data": {
      "text/plain": [
       "np.float64(2.7088344822452775)"
      ]
     },
     "execution_count": 67,
     "metadata": {},
     "output_type": "execute_result"
    }
   ],
   "execution_count": 67
  }
 ],
 "metadata": {
  "kernelspec": {
   "display_name": "Python 3",
   "language": "python",
   "name": "python3"
  },
  "language_info": {
   "codemirror_mode": {
    "name": "ipython",
    "version": 2
   },
   "file_extension": ".py",
   "mimetype": "text/x-python",
   "name": "python",
   "nbconvert_exporter": "python",
   "pygments_lexer": "ipython2",
   "version": "2.7.6"
  }
 },
 "nbformat": 4,
 "nbformat_minor": 5
}
