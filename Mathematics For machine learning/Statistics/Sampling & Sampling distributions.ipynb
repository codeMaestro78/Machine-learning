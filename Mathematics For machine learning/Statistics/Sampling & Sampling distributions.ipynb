{
 "cells": [
  {
   "metadata": {},
   "cell_type": "markdown",
   "source": [
    "# 5. Sampling & Sampling Distributions\n",
    "\n",
    "## 1. Population vs Sample\n",
    "- **Population**: The entire set of individuals, items, or data points of interest.\n",
    "- **Sample**: A subset of the population used for analysis.\n",
    "- Sampling is done when studying the entire population is impractical.\n",
    "\n",
    "---\n",
    "\n",
    "## 2. Sampling Techniques\n",
    "\n",
    "### (a) Simple Random Sampling\n",
    "Every member of the population has an equal chance of being selected.\n",
    "- Example: Randomly selecting 50 students out of 1000.\n",
    "\n",
    "### (b) Stratified Sampling\n",
    "Population is divided into groups (strata) based on certain characteristics, and samples are taken from each stratum.\n",
    "- Example: Sampling students proportionally from each grade.\n",
    "\n",
    "### (c) Cluster Sampling\n",
    "Population is divided into clusters, and entire clusters are randomly selected.\n",
    "- Example: Randomly selecting 5 classrooms and surveying all students in them.\n",
    "\n",
    "---\n",
    "\n",
    "## 3. Central Limit Theorem (CLT)\n",
    "The CLT states that if you take sufficiently large random samples ($n > 30$) from any population with mean $\\mu$ and variance $\\sigma^2$, then the sampling distribution of the sample mean $\\bar{X}$ is approximately normal:\n",
    "\n",
    "$$ \\bar{X} \\sim N \\left( \\mu, \\frac{\\sigma^2}{n} \\right) $$\n",
    "\n",
    "---\n",
    "\n",
    "## 4. Standard Error (SE)\n",
    "The standard error measures the variability of the sample statistic (e.g., sample mean) from the population parameter.\n",
    "\n",
    "- Formula for the standard error of the mean:\n",
    "\n",
    "$$ SE = \\frac{\\sigma}{\\sqrt{n}} $$\n",
    "\n",
    "where:\n",
    "- $\\sigma$ = population standard deviation\n",
    "- $n$ = sample size\n",
    "\n",
    "If population standard deviation is unknown, we use sample standard deviation $s$:\n",
    "\n",
    "$$ SE = \\frac{s}{\\sqrt{n}} $$\n",
    "\n",
    "---\n",
    "\n",
    "✅ **Why it matters:**\n",
    "- **CLT** ensures we can use normal distribution for inference, even if population distribution is not normal.\n",
    "- **SE** tells us how reliable our sample mean is as an estimate of the population mean.\n"
   ],
   "id": "8a5b4c5d63728a2"
  },
  {
   "cell_type": "code",
   "execution_count": null,
   "id": "initial_id",
   "metadata": {
    "collapsed": true
   },
   "outputs": [],
   "source": [
    ""
   ]
  }
 ],
 "metadata": {
  "kernelspec": {
   "display_name": "Python 3",
   "language": "python",
   "name": "python3"
  },
  "language_info": {
   "codemirror_mode": {
    "name": "ipython",
    "version": 2
   },
   "file_extension": ".py",
   "mimetype": "text/x-python",
   "name": "python",
   "nbconvert_exporter": "python",
   "pygments_lexer": "ipython2",
   "version": "2.7.6"
  }
 },
 "nbformat": 4,
 "nbformat_minor": 5
}
