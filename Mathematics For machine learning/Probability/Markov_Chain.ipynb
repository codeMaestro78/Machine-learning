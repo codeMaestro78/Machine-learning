{
 "cells": [
  {
   "cell_type": "markdown",
   "id": "b229bb3d",
   "metadata": {},
   "source": [
    "## Markov Chain(MC):\n",
    "\n",
    "A Markov chain is the mathematical model for stochastic processes where the future state dependes solely on the present state and not on the sequence of events that preceded it. this property is known as the markov property . MC used in various fields such as genetics, economics, game theory, and computer science.\n",
    "\n",
    "### Key Concepts:\n",
    "\n",
    "1. **States** : The different possible conditions or positions in which the system can exist.\n",
    "2. **Transition Probability** : The probability of moving from one state to another.\n",
    "3. **Transition Matrix** : A matrix that represents the transition probabilities between states.\n",
    "4. **Initial State Distribution** : The probabilities of starting in each state.\n",
    "\n",
    "### Example:\n",
    "\n",
    "Consider a simple weather model with two states: \"Sunny\"\n",
    "and \"Rainy\". The transition probabilities are as follows:\n",
    "\n",
    "- If today is Sunny, there is a 0.8 probability that tomorrow will be Sunny and a 0.2 probability that it will be Rainy.\n",
    "- If today is Rainy, there is a 0.4 probability that tomorrow will be Sunny and a 0.6 probability that it will be Rainy.\n",
    "  The transition matrix for this Markov chain can be represented as:\n",
    "\n",
    "```\n",
    "        | Sunny | Rainy |\n",
    "-------------------------\n",
    "Sunny  |  0.8  |  0.2  |\n",
    "Rainy  |  0.4  |  0.6  |\n",
    "```\n",
    "\n",
    "The initial state distribution could be:\n",
    "\n",
    "```\n",
    "        | Sunny | Rainy |\n",
    "-------------------------\n",
    "        |  0.5  |  0.5  |\n",
    "```\n",
    "\n",
    "This indicates that there is a 50% chance of starting in either state.\n",
    "\n",
    "### Applications:\n",
    "\n",
    "- **Weather Forecasting** : Predicting future weather conditions based on current data.\n",
    "- **Stock Market Analysis** : Modeling stock price movements.\n",
    "- **Natural Language Processing** : Text generation and speech recognition.\n",
    "- **Game Theory** : Analyzing strategies in games with probabilistic outcomes.\n",
    "  Markov chains provide a powerful framework for modeling systems that evolve over time with inherent randomness.\n"
   ]
  },
  {
   "cell_type": "markdown",
   "id": "790dde99",
   "metadata": {},
   "source": [
    "## Mathematical representation:\n",
    "\n",
    "Imagine a system with a finite set of states, say $ S = \\{s_1, s_2, \\dots, s_n\\} $. At each time step $ t $, the system is in one state $ X_t \\in S $.\n",
    "\n",
    "Transition probabilities: The probability of moving from state $ i $ to state $ j $ is $ P*{ij} = P(X*{t+1} = s_j \\mid X_t = s_i) $. These are fixed and don't change with time (assuming a time-homogeneous chain).\n",
    "\n",
    "All $ P*{ij} \\geq 0 $ and for each $ i $, $ \\sum_j P*{ij} = 1 $ (rows sum to 1).\n",
    "\n",
    "We represent this as a transition matrix $ P $, an $ n \\times n $ matrix where entry (i,j) is $ P\\_{ij} $.\n",
    "\n",
    "Initial state distribution: The initial probabilities of being in each state can be represented as a vector $ \\pi^{(0)} = [\\pi_1^{(0)}, \\pi_2^{(0)}, \\dots, \\pi_n^{(0)}] $, where $ \\pi_i^{(0)} = P(X_0 = s_i) $.\n",
    "\n",
    "The state distribution at time $ t $ can be computed as:\n",
    "$$ \\pi^{(t)} = \\pi^{(0)} P^t $$\n",
    "where $ P^t $ is the matrix $ P $ raised to the power of $ t $.\n"
   ]
  },
  {
   "cell_type": "code",
   "execution_count": null,
   "id": "553dc93c",
   "metadata": {},
   "outputs": [
    {
     "name": "stdout",
     "output_type": "stream",
     "text": [
      "[0, 1, 1, 0, 0, 1, 1, 0, 0, 0, 0]\n"
     ]
    }
   ],
   "source": [
    "import random\n",
    "def simulate_markov_chain(transition_matrix,intial_state,num_steps):\n",
    "    curr_state=intial_state\n",
    "    state_history=[curr_state]\n",
    "\n",
    "    for _ in range(num_steps):\n",
    "        probs=transition_matrix[curr_state]\n",
    "        next_state=random.choices(range(len(probs)),weights=probs)[0]\n",
    "        curr_state=next_state\n",
    "        state_history.append(curr_state)\n",
    "    return state_history\n",
    "\n",
    "\n",
    "transition_matrix=[[0.9,0.1],[0.5,0.5]]\n",
    "\n",
    "initial_state=0\n",
    "num_steps=10\n",
    "\n",
    "print(simulate_markov_chain(transition_matrix,initial_state,num_steps))\n"
   ]
  },
  {
   "cell_type": "code",
   "execution_count": 6,
   "id": "9334a2e2",
   "metadata": {},
   "outputs": [
    {
     "name": "stdout",
     "output_type": "stream",
     "text": [
      "[0.843, 0.157]\n"
     ]
    }
   ],
   "source": [
    "def estimate_steady_state(transition_matrix,initial_state,num_steps,num_trials=1000):\n",
    "    state_counts=[0]*len(transition_matrix)\n",
    "    for _ in range(num_trials):\n",
    "        states=simulate_markov_chain(transition_matrix,initial_state,num_steps)\n",
    "        state_counts[states[-1]]+=1\n",
    "    steady_state=[count/num_trials for count in state_counts]\n",
    "    return steady_state\n",
    "\n",
    "print(estimate_steady_state(transition_matrix,initial_state,num_steps))\n"
   ]
  },
  {
   "cell_type": "code",
   "execution_count": 3,
   "id": "62f87b05",
   "metadata": {},
   "outputs": [],
   "source": [
    "# Input:\n",
    "#   N = number of states\n",
    "#   transition = N x N matrix (list of lists), transition[i][j] = P(go from i to j)\n",
    "#   start = initial state (0 to N-1)\n",
    "#   T = number of steps\n",
    "\n",
    "# Output:\n",
    "#   List of T+1 states (including start)\n",
    "\n",
    "# Sample:\n",
    "#   N=2\n",
    "#   transition = [[0.8, 0.2], [0.3, 0.7]]\n",
    "#   start = 0\n",
    "#   T = 3\n",
    "# Output: [0, 0, 1, 0] (example; random)"
   ]
  },
  {
   "cell_type": "code",
   "execution_count": 8,
   "id": "4834a16d",
   "metadata": {},
   "outputs": [
    {
     "data": {
      "text/plain": [
       "[0, 0, 0, 1]"
      ]
     },
     "execution_count": 8,
     "metadata": {},
     "output_type": "execute_result"
    }
   ],
   "source": [
    "import random\n",
    "\n",
    "def simulate_path(transition,start,T):\n",
    "    N=len(transition)\n",
    "    path=[start]\n",
    "    current=start\n",
    "\n",
    "    for _ in range(T):\n",
    "        probs=transition[current]\n",
    "        next_state=random.choices(range(N),weights=probs)[0]\n",
    "        current=next_state\n",
    "        path.append(current)\n",
    "    return path\n",
    "\n",
    "\n",
    "transition_matrix=[[0.8,0.2],[0.3,0.7]]\n",
    "simulate_path(transition_matrix,0,3)"
   ]
  },
  {
   "cell_type": "code",
   "execution_count": null,
   "id": "e5e91b3b",
   "metadata": {},
   "outputs": [],
   "source": [
    "# Input:\n",
    "#   P = transition matrix (list of lists)\n",
    "#   N = steps\n",
    "#   i, j = start and target states\n",
    "\n",
    "# Output:\n",
    "#   float = P^N[i][j]\n",
    "\n",
    "# Sample:\n",
    "#   P = [[0.8, 0.2], [0.3, 0.7]]\n",
    "#   N=2, i=0, j=1\n",
    "# Output: 0.26"
   ]
  },
  {
   "cell_type": "code",
   "execution_count": 13,
   "id": "dd166582",
   "metadata": {},
   "outputs": [
    {
     "name": "stdout",
     "output_type": "stream",
     "text": [
      "0.30000000000000004\n"
     ]
    }
   ],
   "source": [
    "def matrix_multiply(A,B):\n",
    "    n=len(A)\n",
    "    C=[[0.0]*n for _ in range(n)]\n",
    "    for i in range(n):\n",
    "        for j in range(n):\n",
    "            for k in range(n):\n",
    "                C[i][j]+=A[i][k]*B[k][j]\n",
    "    return C\n",
    "\n",
    "\n",
    "def matrix_power(P,N):\n",
    "    result=[[1 if i==j else 0 for j in range(len(P))] for i in range(len(P))]\n",
    "    while N>0:\n",
    "        if N%2==1:\n",
    "            result=matrix_multiply(result,P)\n",
    "        P=matrix_multiply(P,P)\n",
    "        N//=2\n",
    "    return result\n",
    "\n",
    "def prob_n_steps(P,N,i,j):\n",
    "    P_N=matrix_power(P,N)\n",
    "    return P_N[i][j]\n",
    "\n",
    "P = [[0.8, 0.2], [0.3, 0.7]]\n",
    "print(prob_n_steps(P, 2, 0, 1))"
   ]
  },
  {
   "cell_type": "code",
   "execution_count": 14,
   "id": "53efea2b",
   "metadata": {},
   "outputs": [
    {
     "name": "stdout",
     "output_type": "stream",
     "text": [
      "0.30000000000000004\n"
     ]
    }
   ],
   "source": [
    "# Above code has three loop means O(n^3) time complexity\n",
    "\n",
    "import numpy as np\n",
    "\n",
    "def matrix_power_np(P,N):\n",
    "    n=P.shape[0]\n",
    "    result=np.eye(n)\n",
    "\n",
    "    while N>0:\n",
    "        if N%2==1:\n",
    "            result=result@P\n",
    "        P=P@P\n",
    "        N//=2\n",
    "    return result\n",
    "\n",
    "\n",
    "def prob_n_step_np(P,N,i,j):\n",
    "    P=np.array(P,dtype=float)\n",
    "    P_N=matrix_power_np(P,N)\n",
    "    return P_N[i][j]\n",
    "\n",
    "\n",
    "P = np.array([[0.8, 0.2],\n",
    "              [0.3, 0.7]])\n",
    "\n",
    "print(prob_n_step_np(P, 2, 0, 1))"
   ]
  },
  {
   "cell_type": "code",
   "execution_count": 22,
   "id": "f1166bc1",
   "metadata": {},
   "outputs": [
    {
     "name": "stdout",
     "output_type": "stream",
     "text": [
      "\n",
      "Matrix: 10x10, Power: 50\n",
      "Pure Python Time: 0.000665 s\n",
      "NumPy Time:       0.000043 s\n",
      "Speedup: 15.42x\n",
      "\n",
      "Matrix: 50x50, Power: 50\n",
      "Pure Python Time: 0.067783 s\n",
      "NumPy Time:       0.000149 s\n",
      "Speedup: 454.00x\n",
      "\n",
      "Matrix: 100x100, Power: 50\n",
      "Pure Python Time: 0.539847 s\n",
      "NumPy Time:       0.001002 s\n",
      "Speedup: 538.99x\n"
     ]
    }
   ],
   "source": [
    "import numpy as np\n",
    "import time\n",
    "\n",
    "def matrix_multiply(A, B):\n",
    "    n = len(A)\n",
    "    C = [[0.0] * n for _ in range(n)]\n",
    "    for i in range(n):\n",
    "        for j in range(n):\n",
    "            for k in range(n):\n",
    "                C[i][j] += A[i][k] * B[k][j]\n",
    "    return C\n",
    "\n",
    "def matrix_power_py(P, N):\n",
    "    result = [[1 if i == j else 0 for j in range(len(P))] for i in range(len(P))]\n",
    "    while N > 0:\n",
    "        if N % 2 == 1:\n",
    "            result = matrix_multiply(result, P)\n",
    "        P = matrix_multiply(P, P)\n",
    "        N //= 2\n",
    "    return result\n",
    "\n",
    "def matrix_power_np(P, N):\n",
    "    result = np.eye(P.shape[0])\n",
    "    while N > 0:\n",
    "        if N % 2 == 1:\n",
    "            result = result @ P\n",
    "        P = P @ P\n",
    "        N //= 2\n",
    "    return result\n",
    "\n",
    "def benchmark(matrix_size=10, power=50):\n",
    "    P = np.random.rand(matrix_size, matrix_size)\n",
    "    P /= P.sum(axis=1, keepdims=True)\n",
    "    P_list = P.tolist()\n",
    "\n",
    "    print(f\"\\nMatrix: {matrix_size}x{matrix_size}, Power: {power}\")\n",
    "\n",
    "    start_py = time.perf_counter()\n",
    "    _ = matrix_power_py(P_list, power)\n",
    "    end_py = time.perf_counter()\n",
    "    print(f\"Pure Python Time: {end_py - start_py:.6f} s\")\n",
    "\n",
    "    start_np = time.perf_counter()\n",
    "    _ = matrix_power_np(P.copy(), power)\n",
    "    end_np = time.perf_counter()\n",
    "    print(f\"NumPy Time:       {end_np - start_np:.6f} s\")\n",
    "\n",
    "    print(f\"Speedup: {(end_py - start_py) / (end_np - start_np):.2f}x\")\n",
    "\n",
    "benchmark(matrix_size=10, power=50)\n",
    "benchmark(matrix_size=50, power=50)\n",
    "benchmark(matrix_size=100, power=50)\n"
   ]
  },
  {
   "cell_type": "code",
   "execution_count": null,
   "id": "c8d3311c",
   "metadata": {},
   "outputs": [],
   "source": []
  }
 ],
 "metadata": {
  "kernelspec": {
   "display_name": ".venv1",
   "language": "python",
   "name": "python3"
  },
  "language_info": {
   "codemirror_mode": {
    "name": "ipython",
    "version": 3
   },
   "file_extension": ".py",
   "mimetype": "text/x-python",
   "name": "python",
   "nbconvert_exporter": "python",
   "pygments_lexer": "ipython3",
   "version": "3.11.9"
  }
 },
 "nbformat": 4,
 "nbformat_minor": 5
}
