{
 "cells": [
  {
   "cell_type": "markdown",
   "id": "be1f5096daddcbef",
   "metadata": {},
   "source": [
    "# Hierarchical Clustering (HC) – In Depth Explanation\n",
    "\n",
    "Hierarchical clustering is an **unsupervised machine learning** method that builds a **hierarchy of clusters**.\n",
    "Unlike k-means, it does not require specifying the number of clusters beforehand.\n",
    "Instead, it produces a **dendrogram** which encodes all possible clusterings at different levels.\n",
    "\n",
    "---\n",
    "\n",
    "## 1. Types of Hierarchical Clustering\n",
    "\n",
    "1. **Agglomerative (Bottom-Up):**\n",
    "   - Start with each data point as its own cluster.\n",
    "   - Iteratively merge the two closest clusters.\n",
    "   - Continue until all points are in one cluster.\n",
    "\n",
    "2. **Divisive (Top-Down):**\n",
    "   - Start with all points in one cluster.\n",
    "   - Recursively split clusters.\n",
    "\n",
    "Most commonly used: **Agglomerative Hierarchical Clustering (AHC).**\n",
    "\n",
    "---\n",
    "\n",
    "## 2. Mathematical Foundation\n",
    "\n",
    "### 2.1 Distance Between Points\n",
    "\n",
    "For data points \\( x_i, x_j \\in \\mathbb{R}^n \\), a common choice is **Euclidean distance**:\n",
    "\n",
    "$$\n",
    "d(x_i, x_j) = \\sqrt{\\sum_{k=1}^n (x_{ik} - x_{jk})^2}\n",
    "$$\n",
    "\n",
    "### 2.2 Distance Between Clusters (Linkage Criteria)\n",
    "\n",
    "- **Single linkage:**\n",
    "\n",
    "$$\n",
    "D(A, B) = \\min_{x \\in A, y \\in B} d(x, y)\n",
    "$$\n",
    "\n",
    "- **Complete linkage:**\n",
    "\n",
    "$$\n",
    "D(A, B) = \\max_{x \\in A, y \\in B} d(x, y)\n",
    "$$\n",
    "\n",
    "- **Average linkage:**\n",
    "\n",
    "$$\n",
    "D(A, B) = \\frac{1}{|A||B|} \\sum_{x \\in A} \\sum_{y \\in B} d(x, y)\n",
    "$$\n",
    "\n",
    "- **Ward’s linkage:**\n",
    "\n",
    "$$\n",
    "D(A, B) = \\frac{|A||B|}{|A| + |B|} \\| \\mu_A - \\mu_B \\|^2\n",
    "$$\n",
    "\n",
    "where \\( \\mu_A \\) is the centroid of cluster \\( A \\).\n",
    "\n",
    "---\n",
    "\n",
    "## 3. Algorithm (Agglomerative)\n",
    "\n",
    "1. Initialize: each data point is its own cluster.\n",
    "2. Compute pairwise distances between clusters.\n",
    "3. Merge the two closest clusters.\n",
    "4. Update the distance matrix according to linkage rule.\n",
    "5. Repeat until one cluster remains.\n",
    "\n",
    "The sequence of merges forms a **dendrogram**.\n",
    "\n",
    "---\n",
    "\n",
    "## 4. Complexity\n",
    "\n",
    "- Distance matrix computation: $$ O(n^2) $$\n",
    "- Naïve merging process: $$ O(n^3) $$\n",
    "- Optimized (priority queue + Lance–Williams formula): $$ O(n^2 \\log n) $$\n",
    "\n",
    "---"
   ]
  },
  {
   "cell_type": "code",
   "execution_count": 72,
   "id": "initial_id",
   "metadata": {
    "ExecuteTime": {
     "end_time": "2025-09-04T15:38:18.084464Z",
     "start_time": "2025-09-04T15:38:18.072941Z"
    },
    "collapsed": true
   },
   "outputs": [
    {
     "name": "stdout",
     "output_type": "stream",
     "text": [
      "step 1 : merged {0} and {1} at distance 1.00\n",
      "step 2 : merged {3} and {4} at distance 1.00\n",
      "step 3 : merged {2} and {3, 4} at distance 1.41\n",
      "step 4 : merged {5} and {2, 3, 4} at distance 2.24\n",
      "step 5 : merged {0, 1} and {2, 3, 4, 5} at distance 5.00\n"
     ]
    }
   ],
   "source": [
    "import numpy as np\n",
    "\n",
    "\n",
    "def euclidean_distance(x, y):\n",
    "    return np.sqrt(np.sum((x - y) ** 2))\n",
    "\n",
    "\n",
    "def compute_distance_matrix(X):\n",
    "    n = len(X)\n",
    "    dist_matrix = np.full((n, n), np.inf)\n",
    "    for i in range(n):\n",
    "        for j in range(i + 1, n):\n",
    "            dist = euclidean_distance(X[i], X[j])\n",
    "            dist_matrix[i][i] = dist\n",
    "            dist_matrix[j][i] = dist\n",
    "    return dist_matrix\n",
    "\n",
    "\n",
    "# Agglomerative clustering with single linkage\n",
    "\n",
    "def hierarchical_clustering(X):\n",
    "    n = len(X)\n",
    "    clusters = [{i} for i in range(n)]  # each points its own cluster\n",
    "    dist_matrix = compute_distance_matrix(X)\n",
    "    history = []\n",
    "\n",
    "    while len(clusters) > 1:\n",
    "        min_dist = np.inf\n",
    "        to_merge = None\n",
    "\n",
    "        for i in range(len(clusters)):\n",
    "            for j in range(i + 1, len(clusters)):\n",
    "                dist = min(euclidean_distance(X[p], X[q]) for p in clusters[i] for q in clusters[j])\n",
    "                if dist < min_dist:\n",
    "                    min_dist = dist\n",
    "                    to_merge = (i, j)\n",
    "\n",
    "        i,j =to_merge\n",
    "#         merge clusteres\n",
    "        new_cluster=clusters[i].union(clusters[j])\n",
    "        history.append((clusters[i],clusters[j],min_dist))\n",
    "\n",
    "#         remove old clusters\n",
    "        clusters=[clusters[k] for k in range(len(clusters)) if k not in (i,j)]\n",
    "        clusters.append(new_cluster)\n",
    "\n",
    "    return history\n",
    "\n",
    "\n",
    "X=np.array([[1,2],[2,2],[5,6],[6,7],[7,7],[8,9]])\n",
    "merges=hierarchical_clustering(X)\n",
    "\n",
    "for step ,(c1,c2,dist) in enumerate(merges):\n",
    "    print(f\"step {step+1} : merged {c1} and {c2} at distance {dist:.2f}\")"
   ]
  },
  {
   "cell_type": "code",
   "execution_count": 73,
   "id": "98b1a6f37f7f5a68",
   "metadata": {
    "ExecuteTime": {
     "end_time": "2025-09-04T15:38:21.231299Z",
     "start_time": "2025-09-04T15:38:21.113558Z"
    }
   },
   "outputs": [
    {
     "data": {
      "image/png": "[encoded data removed]",
      "text/plain": [
       "<Figure size 640x480 with 1 Axes>"
      ]
     },
     "metadata": {},
     "output_type": "display_data"
    }
   ],
   "source": [
    "from scipy.cluster import hierarchy as sch\n",
    "dendo=sch.dendrogram(sch.linkage(X,method='single'))"
   ]
  },
  {
   "cell_type": "code",
   "execution_count": 88,
   "id": "20d19c556af0a080",
   "metadata": {
    "ExecuteTime": {
     "end_time": "2025-09-04T16:02:09.083736Z",
     "start_time": "2025-09-04T16:02:08.836687Z"
    }
   },
   "outputs": [
    {
     "data": {
      "image/png": "[encoded data removed]",
      "text/plain": [
       "<Figure size 800x500 with 1 Axes>"
      ]
     },
     "metadata": {},
     "output_type": "display_data"
    },
    {
     "name": "stdout",
     "output_type": "stream",
     "text": [
      "Cluster assignments: [1 3 4 1 2 1 2 4 2 3 3 4]\n"
     ]
    }
   ],
   "source": [
    "import matplotlib.pyplot as plt\n",
    "from sklearn.datasets import make_blobs\n",
    "\n",
    "X,y_true=make_blobs(n_samples=12,centers=4,random_state=42,cluster_std=1.0)\n",
    "X\n",
    "\n",
    "from scipy.cluster.hierarchy import dendrogram,linkage,fcluster\n",
    "\n",
    "Z=linkage(X,method='ward')\n",
    "\n",
    "plt.figure(figsize=(8,5))\n",
    "dendrogram(Z,labels=np.arange(len(X)))\n",
    "plt.title(\"Hierarchical Clustering Dendrogram (Ward linkage)\")\n",
    "plt.xlabel(\"Data Point Index\")\n",
    "plt.ylabel(\"Distance\")\n",
    "plt.show()\n",
    "\n",
    "# Extract clusters by cutting the tree\n",
    "clusters = fcluster(Z, t=7, criterion='distance')\n",
    "print(\"Cluster assignments:\", clusters)\n"
   ]
  }
 ],
 "metadata": {
  "kernelspec": {
   "display_name": "Python 3",
   "language": "python",
   "name": "python3"
  },
  "language_info": {
   "codemirror_mode": {
    "name": "ipython",
    "version": 2
   },
   "file_extension": ".py",
   "mimetype": "text/x-python",
   "name": "python",
   "nbconvert_exporter": "python",
   "pygments_lexer": "ipython2",
   "version": "2.7.6"
  }
 },
 "nbformat": 4,
 "nbformat_minor": 5
}
