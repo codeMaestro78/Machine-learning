{
 "cells": [
  {
   "cell_type": "code",
   "execution_count": null,
   "id": "53e0c206",
   "metadata": {},
   "outputs": [
    {
     "name": "stdout",
     "output_type": "stream",
     "text": [
      "[[4.95 2.97 1.87 1.  ]\n",
      " [3.96 2.39 1.73 1.  ]\n",
      " [1.   1.   6.11 4.94]\n",
      " [1.   0.91 4.93 3.97]\n",
      " [1.14 1.   4.97 3.99]]\n"
     ]
    }
   ],
   "source": [
    "import numpy as np\n",
    "\n",
    "R = np.array([\n",
    "    [5, 3, 0, 1],\n",
    "    [4, 0, 0, 1],\n",
    "    [1, 1, 0, 5],\n",
    "    [1, 0, 0, 4],\n",
    "    [0, 1, 5, 4],\n",
    "], dtype=float)\n",
    "\n",
    "num_users,num_items=R.shape\n",
    "k=2\n",
    "P=np.random.rand(num_users,k)\n",
    "Q=np.random.rand(num_items,k)\n",
    "\n",
    "learning_rate=0.01\n",
    "lambda_reg = 0.02\n",
    "epochs = 5000\n",
    "\n",
    "for epoch in range(epochs):\n",
    "    for i in range(num_users):\n",
    "        for j in range(num_items):\n",
    "            if(R[i][j])> 0:\n",
    "                eij=R[i][j]-np.dot(P[i,:],Q[j,:])\n",
    "                P[i,:]+=learning_rate*(eij*Q[j,:]-lambda_reg*P[i,:])\n",
    "                Q[j,:]+=learning_rate*(eij*P[i,:]-lambda_reg*Q[j,:])\n",
    "\n",
    "\n",
    "\n",
    "R_hat = np.dot(P, Q.T)\n",
    "print(np.round(R_hat, 2))"
   ]
  },
  {
   "cell_type": "markdown",
   "id": "bb7d16a6",
   "metadata": {},
   "source": [
    "| Concept       | Description                            | Common Use                 |\n",
    "| ------------- | -------------------------------------- | -------------------------- |\n",
    "| **SVD**       | Orthogonal low-rank decomposition      | PCA, LSA                   |\n",
    "| **NMF**       | Non-negative low-rank                  | Image parts, topics        |\n",
    "| **ALS**       | Alternating least squares optimization | Recommenders               |\n",
    "| **PMF**       | Bayesian MF with priors                | Collaborative filtering    |\n",
    "| **Neural MF** | Deep nonlinear embeddings              | Netflix, Spotify           |\n",
    "| **Tensor MF** | Multi-dimensional extension            | Context-aware recommenders |\n"
   ]
  }
 ],
 "metadata": {
  "kernelspec": {
   "display_name": ".venv1",
   "language": "python",
   "name": "python3"
  },
  "language_info": {
   "codemirror_mode": {
    "name": "ipython",
    "version": 3
   },
   "file_extension": ".py",
   "mimetype": "text/x-python",
   "name": "python",
   "nbconvert_exporter": "python",
   "pygments_lexer": "ipython3",
   "version": "3.11.9"
  }
 },
 "nbformat": 4,
 "nbformat_minor": 5
}
