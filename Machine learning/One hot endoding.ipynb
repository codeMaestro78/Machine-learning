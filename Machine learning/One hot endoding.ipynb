{
 "cells": [
  {
   "cell_type": "code",
   "id": "initial_id",
   "metadata": {
    "collapsed": true,
    "ExecuteTime": {
     "end_time": "2025-08-14T20:28:14.490521Z",
     "start_time": "2025-08-14T20:28:14.443391Z"
    }
   },
   "source": [
    "import pandas as pd\n",
    "from sklearn.preprocessing import OneHotEncoder\n",
    "\n",
    "# Sample employee dataset\n",
    "data = {\n",
    "    'Employee ID': [101, 102, 103, 104, 105],\n",
    "    'Department': ['HR', 'IT', 'Finance', 'IT', 'HR'],\n",
    "    'Job Level': ['Junior', 'Senior', 'Mid', 'Senior', 'Junior'],\n",
    "    'City': ['New York', 'San Francisco', 'New York', 'Austin', 'Austin'],\n",
    "    'Salary': [50000, 80000, 60000, 85000, 52000]  # numerical (no encoding)\n",
    "}\n",
    "\n",
    "df = pd.DataFrame(data)\n",
    "print(\"Original DataFrame:\\n\", df, \"\\n\")\n",
    "\n",
    "# ----------------------------\n",
    "# 1️⃣ One-Hot Encoding with Pandas\n",
    "# ----------------------------\n",
    "df_pandas_encoded = pd.get_dummies(df, columns=['Department', 'Job Level', 'City'], drop_first=False)\n",
    "print(\"One-Hot Encoded with Pandas:\\n\", df_pandas_encoded, \"\\n\")\n",
    "\n",
    "# ----------------------------\n",
    "# 2️⃣ One-Hot Encoding with Scikit-learn\n",
    "# ----------------------------\n",
    "encoder = OneHotEncoder(sparse_output=False, drop=None)  # keep all categories\n",
    "\n",
    "# Fit-transform only categorical columns\n",
    "categorical_cols = ['Department', 'Job Level', 'City']\n",
    "one_hot_encoded = encoder.fit_transform(df[categorical_cols])\n",
    "\n",
    "# Convert to DataFrame with proper column names\n",
    "one_hot_df = pd.DataFrame(one_hot_encoded, columns=encoder.get_feature_names_out(categorical_cols))\n",
    "\n",
    "# Combine encoded data with numerical columns\n",
    "df_sklearn_encoded = pd.concat([df[['Employee ID', 'Salary']], one_hot_df], axis=1)\n",
    "print(\"One-Hot Encoded with Scikit-learn:\\n\", df_sklearn_encoded)\n"
   ],
   "outputs": [
    {
     "name": "stdout",
     "output_type": "stream",
     "text": [
      "Original DataFrame:\n",
      "    Employee ID Department Job Level           City  Salary\n",
      "0          101         HR    Junior       New York   50000\n",
      "1          102         IT    Senior  San Francisco   80000\n",
      "2          103    Finance       Mid       New York   60000\n",
      "3          104         IT    Senior         Austin   85000\n",
      "4          105         HR    Junior         Austin   52000 \n",
      "\n",
      "One-Hot Encoded with Pandas:\n",
      "    Employee ID  Salary  Department_Finance  Department_HR  Department_IT  \\\n",
      "0          101   50000               False           True          False   \n",
      "1          102   80000               False          False           True   \n",
      "2          103   60000                True          False          False   \n",
      "3          104   85000               False          False           True   \n",
      "4          105   52000               False           True          False   \n",
      "\n",
      "   Job Level_Junior  Job Level_Mid  Job Level_Senior  City_Austin  \\\n",
      "0              True          False             False        False   \n",
      "1             False          False              True        False   \n",
      "2             False           True             False        False   \n",
      "3             False          False              True         True   \n",
      "4              True          False             False         True   \n",
      "\n",
      "   City_New York  City_San Francisco  \n",
      "0           True               False  \n",
      "1          False                True  \n",
      "2           True               False  \n",
      "3          False               False  \n",
      "4          False               False   \n",
      "\n",
      "One-Hot Encoded with Scikit-learn:\n",
      "    Employee ID  Salary  Department_Finance  Department_HR  Department_IT  \\\n",
      "0          101   50000                 0.0            1.0            0.0   \n",
      "1          102   80000                 0.0            0.0            1.0   \n",
      "2          103   60000                 1.0            0.0            0.0   \n",
      "3          104   85000                 0.0            0.0            1.0   \n",
      "4          105   52000                 0.0            1.0            0.0   \n",
      "\n",
      "   Job Level_Junior  Job Level_Mid  Job Level_Senior  City_Austin  \\\n",
      "0               1.0            0.0               0.0          0.0   \n",
      "1               0.0            0.0               1.0          0.0   \n",
      "2               0.0            1.0               0.0          0.0   \n",
      "3               0.0            0.0               1.0          1.0   \n",
      "4               1.0            0.0               0.0          1.0   \n",
      "\n",
      "   City_New York  City_San Francisco  \n",
      "0            1.0                 0.0  \n",
      "1            0.0                 1.0  \n",
      "2            1.0                 0.0  \n",
      "3            0.0                 0.0  \n",
      "4            0.0                 0.0  \n"
     ]
    }
   ],
   "execution_count": 10
  }
 ],
 "metadata": {
  "kernelspec": {
   "display_name": "Python 3",
   "language": "python",
   "name": "python3"
  },
  "language_info": {
   "codemirror_mode": {
    "name": "ipython",
    "version": 2
   },
   "file_extension": ".py",
   "mimetype": "text/x-python",
   "name": "python",
   "nbconvert_exporter": "python",
   "pygments_lexer": "ipython2",
   "version": "2.7.6"
  }
 },
 "nbformat": 4,
 "nbformat_minor": 5
}
