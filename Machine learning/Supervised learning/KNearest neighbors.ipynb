{
 "cells": [
  {
   "metadata": {},
   "cell_type": "markdown",
   "source": [
    "# 📘 K-Nearest Neighbors (KNN) - Guide with Math & Distances\n",
    "\n",
    "---\n",
    "\n",
    "## 🔢 What is KNN?\n",
    "\n",
    "K-Nearest Neighbors (KNN) is a **non-parametric**, **supervised** machine learning algorithm used for both **classification** and **regression**.\n",
    "\n",
    "Given a new, unseen data point (query point), the model's logic is straightforward:\n",
    "\n",
    "1.  **Calculate Distances**: It computes the distance between the query point and every single point in the training dataset.\n",
    "2.  **Find Neighbors**: It identifies the top **'K'** nearest data points (neighbors) from the training set.\n",
    "3.  **Vote or Average**:\n",
    "    * For **classification**, it assigns the class label that is most frequent among the K neighbors (a majority vote).\n",
    "    * For **regression**, it predicts a value that is the average of the values of the K neighbors.\n",
    "\n",
    "---\n",
    "\n",
    "## 🧮 Mathematical Formulation\n",
    "\n",
    "The \"distance\" between points is the core of KNN. The two most common distance metrics are Euclidean and Manhattan.\n",
    "\n",
    "### 1. Euclidean Distance (L2 Norm)\n",
    "\n",
    "This is the most common and intuitive distance metric. It represents the shortest straight-line distance between two points in a multi-dimensional space.\n",
    "\n",
    "$$\n",
    "d_{euclidean}(x, y) = \\sqrt{ \\sum_{i=1}^{n} (x_i - y_i)^2 }\n",
    "$$\n",
    "\n",
    "-   **Use Case**: Best suited for problems with **low-dimensional**, **continuous** data where the concept of a direct path is meaningful.\n",
    "-   **Analogy**: Think of it as the distance \"as the crow flies.\"\n",
    "\n",
    "\n",
    "---\n",
    "\n",
    "### 2. Manhattan Distance (L1 Norm)\n",
    "\n",
    "This metric measures the distance by summing the absolute differences of the coordinates. It's like navigating a city grid where you can only travel along horizontal or vertical streets.\n",
    "\n",
    "$$\n",
    "d_{manhattan}(x, y) = \\sum_{i=1}^{n} |x_i - y_i|\n",
    "$$\n",
    "\n",
    "-   **Use Case**: Often performs better in **high-dimensional** spaces or with **sparse** data. It's less sensitive to outliers than Euclidean distance.\n",
    "-   **Analogy**: The distance a taxi would travel in a city like Manhattan.\n",
    "\n",
    "\n",
    "---\n",
    "\n",
    "## 📌 When to Use Which Distance?\n",
    "\n",
    "Choosing the right distance metric is crucial for the performance of your KNN model.\n",
    "\n",
    "| Distance | Best Use Case | Why? |\n",
    "| :--- | :--- | :--- |\n",
    "| **Euclidean** | Low-dimensional, continuous data | It provides the most natural and shortest path. Most real-world data in lower dimensions fits this model well. |\n",
    "| **Manhattan**| High-dimensional, sparse data | In high dimensions, Euclidean distances can become less meaningful (see *Curse of Dimensionality*). Manhattan distance is more robust in these scenarios. |\n",
    "\n",
    "---\n",
    "\n",
    "## 🧠 Important Notes\n",
    "\n",
    "-   **Choosing K**: The value of **K** is a critical hyperparameter. A small K can lead to a noisy, unstable model (high variance, or **overfitting**). A large K can oversmooth the decision boundary (high bias, or **underfitting**). It's typically chosen using cross-validation.\n",
    "-   **Feature Scaling**: Because KNN is distance-based, it's **essential** to scale your features (e.g., using Standardization or Normalization). If one feature has a much larger scale than others (e.g., salary vs. age), it will unfairly dominate the distance calculation.\n",
    "-   **Computational Cost**: KNN is often called a \"lazy learner\" because it does no work during the training phase. However, the prediction phase is computationally expensive because it requires calculating the distance to **all** training points for each new prediction."
   ],
   "id": "54464292b073929d"
  },
  {
   "cell_type": "code",
   "id": "initial_id",
   "metadata": {
    "collapsed": true,
    "ExecuteTime": {
     "end_time": "2025-08-06T20:39:43.974482Z",
     "start_time": "2025-08-06T20:39:43.961685Z"
    }
   },
   "source": [
    "import numpy as np\n",
    "from collections import Counter\n",
    "\n",
    "class BaseKNN:\n",
    "    def __init__(self, k=3, distance_metric='euclidean'):\n",
    "        self.k = k\n",
    "        self.distance_metric = distance_metric\n",
    "\n",
    "    def fit(self, X, y):\n",
    "        self.X_train = np.array(X)\n",
    "        self.y_train = np.array(y)\n",
    "\n",
    "    def _distance(self, x1, x2):\n",
    "        if self.distance_metric == 'euclidean':\n",
    "            return np.sqrt(np.sum((x1 - x2) ** 2))\n",
    "        elif self.distance_metric == 'manhattan':\n",
    "            return np.sum(np.abs(x1 - x2))\n",
    "        else:\n",
    "            raise ValueError(\"Unsupported distance metric\")\n",
    "\n",
    "    def _get_neighbors(self, x):\n",
    "        distances = [self._distance(x, x_train) for x_train in self.X_train]\n",
    "        k_indices = np.argsort(distances)[:self.k]\n",
    "        return k_indices\n"
   ],
   "outputs": [],
   "execution_count": 70
  },
  {
   "metadata": {
    "ExecuteTime": {
     "end_time": "2025-08-06T20:40:24.764829Z",
     "start_time": "2025-08-06T20:40:24.757559Z"
    }
   },
   "cell_type": "code",
   "source": [
    "class KNNClassifier(BaseKNN):\n",
    "    def predict(self, X):\n",
    "        return np.array([self._predict_point(x) for x in X])\n",
    "\n",
    "    def _predict_point(self, x):\n",
    "        k_indices = self._get_neighbors(x)\n",
    "        k_labels = self.y_train[k_indices]\n",
    "        most_common = Counter(k_labels).most_common(1)\n",
    "        return most_common[0][0]\n"
   ],
   "id": "3b02f974a77c73bd",
   "outputs": [],
   "execution_count": 76
  },
  {
   "metadata": {
    "ExecuteTime": {
     "end_time": "2025-08-06T20:40:29.468087Z",
     "start_time": "2025-08-06T20:40:29.462057Z"
    }
   },
   "cell_type": "code",
   "source": [
    "# knn regressor\n",
    "class KNNRegressor(BaseKNN):\n",
    "    def predict(self,X):\n",
    "        return np.array([self.predict_point(x) for x in X])\n",
    "    def predict_point(self,x):\n",
    "        k_indices=self._get_neighbors(x)\n",
    "        k_labels=self.y_train[k_indices]\n",
    "        return np.mean(k_labels)"
   ],
   "id": "2437b8bf66e99fe",
   "outputs": [],
   "execution_count": 77
  },
  {
   "metadata": {
    "ExecuteTime": {
     "end_time": "2025-08-06T20:40:36.621879Z",
     "start_time": "2025-08-06T20:40:36.580575Z"
    }
   },
   "cell_type": "code",
   "source": [
    "from sklearn.datasets import load_iris\n",
    "from sklearn.model_selection import train_test_split\n",
    "\n",
    "iris = load_iris()\n",
    "X, y = iris.data, iris.target\n",
    "\n",
    "X_train, X_test, y_train, y_test = train_test_split(X, y, test_size=0.2)\n",
    "\n",
    "knn_clf = KNNClassifier(k=5, distance_metric='euclidean')\n",
    "knn_clf.fit(X_train, y_train)\n",
    "predictions = knn_clf.predict(X_test)\n",
    "\n",
    "accuracy = np.mean(predictions == y_test)\n",
    "print(\"KNN Classifier Accuracy:\", accuracy)\n"
   ],
   "id": "edf1e1fc66b39c3f",
   "outputs": [
    {
     "name": "stdout",
     "output_type": "stream",
     "text": [
      "KNN Classifier Accuracy: 0.9666666666666667\n"
     ]
    }
   ],
   "execution_count": 78
  },
  {
   "metadata": {
    "ExecuteTime": {
     "end_time": "2025-08-06T20:40:50.091116Z",
     "start_time": "2025-08-06T20:40:50.068093Z"
    }
   },
   "cell_type": "code",
   "source": [
    "from sklearn.datasets import make_regression\n",
    "from sklearn.metrics import mean_squared_error\n",
    "\n",
    "X, y = make_regression(n_samples=100, n_features=1, noise=20, random_state=42)\n",
    "X_train, X_test, y_train, y_test = train_test_split(X, y, test_size=0.2)\n",
    "\n",
    "knn_reg = KNNRegressor(k=3, distance_metric='manhattan')\n",
    "knn_reg.fit(X_train, y_train)\n",
    "preds = knn_reg.predict(X_test)\n",
    "\n",
    "mse = mean_squared_error(y_test, preds)\n",
    "print(\"KNN Regressor MSE:\", mse)\n"
   ],
   "id": "cca265145d7e1f7a",
   "outputs": [
    {
     "name": "stdout",
     "output_type": "stream",
     "text": [
      "KNN Regressor MSE: 405.3973590095512\n"
     ]
    }
   ],
   "execution_count": 79
  },
  {
   "metadata": {
    "ExecuteTime": {
     "end_time": "2025-08-06T20:41:04.657499Z",
     "start_time": "2025-08-06T20:41:04.404923Z"
    }
   },
   "cell_type": "code",
   "source": [
    "import matplotlib.pyplot as plt\n",
    "\n",
    "X_plot = np.linspace(min(X.ravel()), max(X.ravel()), 100).reshape(-1, 1)\n",
    "y_plot = knn_reg.predict(X_plot)\n",
    "\n",
    "plt.scatter(X_train, y_train, color='blue', label='Train data')\n",
    "plt.scatter(X_test, y_test, color='orange', label='Test data')\n",
    "plt.plot(X_plot, y_plot, color='red', label='KNN Prediction Line')\n",
    "plt.title(\"KNN Regression Prediction (k=3)\")\n",
    "plt.legend()\n",
    "plt.grid(True)\n",
    "plt.show()\n"
   ],
   "id": "f179666ee46dc4b2",
   "outputs": [
    {
     "data": {
      "text/plain": [
       "<Figure size 640x480 with 1 Axes>"
      ],
      "image/png": "[encoded data removed]"
     },
     "metadata": {},
     "output_type": "display_data"
    }
   ],
   "execution_count": 80
  }
 ],
 "metadata": {
  "kernelspec": {
   "display_name": "Python 3",
   "language": "python",
   "name": "python3"
  },
  "language_info": {
   "codemirror_mode": {
    "name": "ipython",
    "version": 2
   },
   "file_extension": ".py",
   "mimetype": "text/x-python",
   "name": "python",
   "nbconvert_exporter": "python",
   "pygments_lexer": "ipython2",
   "version": "2.7.6"
  }
 },
 "nbformat": 4,
 "nbformat_minor": 5
}
